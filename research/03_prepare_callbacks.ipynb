{
 "cells": [
  {
   "cell_type": "code",
   "execution_count": 11,
   "metadata": {},
   "outputs": [],
   "source": [
    "import os"
   ]
  },
  {
   "cell_type": "code",
   "execution_count": 12,
   "metadata": {},
   "outputs": [],
   "source": [
    "os.chdir(\"../\")"
   ]
  },
  {
   "cell_type": "code",
   "execution_count": 13,
   "metadata": {},
   "outputs": [
    {
     "data": {
      "text/plain": [
       "'d:\\\\Projects\\\\Chicken Disease Classification'"
      ]
     },
     "execution_count": 13,
     "metadata": {},
     "output_type": "execute_result"
    }
   ],
   "source": [
    "%pwd"
   ]
  },
  {
   "cell_type": "code",
   "execution_count": 14,
   "metadata": {},
   "outputs": [],
   "source": [
    "from dataclasses import dataclass\n",
    "from pathlib import Path\n",
    "\n",
    "@dataclass(frozen=True)\n",
    "class CallbacksConfig:\n",
    "    root_dir : Path \n",
    "    tensorboard_root_log_dir : Path\n",
    "    checkpoint_model_filepath : Path"
   ]
  },
  {
   "cell_type": "code",
   "execution_count": 15,
   "metadata": {},
   "outputs": [],
   "source": [
    "from CDC.constants import *\n",
    "from CDC.utils.helper_functions import read_yaml, create_directories"
   ]
  },
  {
   "cell_type": "code",
   "execution_count": 23,
   "metadata": {},
   "outputs": [],
   "source": [
    "from CDC.constants import *\n",
    "from CDC.utils.helper_functions import read_yaml, create_directories\n",
    "from CDC.entity.config_entity import DataIngestionConfig, BaseModelConfig\n",
    "\n",
    "from box import ConfigBox\n",
    "\n",
    "class ConfigurationManager:\n",
    "    def __init__(\n",
    "        self,\n",
    "        config_file_path = CONFIG_FILE_PATH,\n",
    "        params_file_path = PARAMS_FILE_PATH):\n",
    "\n",
    "        self.config = read_yaml(config_file_path)\n",
    "        self.params = read_yaml(params_file_path)\n",
    "        create_directories([self.config.artifacts_root])\n",
    "\n",
    "    def get_data_ingestion_config(self) -> ConfigBox:\n",
    "        config = self.config.data_ingestion\n",
    "        create_directories([config.root_dir])    \n",
    "\n",
    "        data_ingestion_config = DataIngestionConfig(\n",
    "            root_dir = config.root_dir,\n",
    "            unzip_dir = config.unzip_dir,\n",
    "            local_data_file = config.local_data_file,\n",
    "            source_url = config.source_URL\n",
    "        )\n",
    "\n",
    "        return data_ingestion_config\n",
    "    \n",
    "    def get_base_model_config(self) -> BaseModelConfig:\n",
    "        config = self.config.base_model\n",
    "        create_directories([config.root_dir])\n",
    "        base_model_config = BaseModelConfig(\n",
    "            root_dir = Path(config.root_dir),\n",
    "            base_model_path = Path(config.base_model_path),\n",
    "            updated_base_model_path = Path(config.updated_base_model_path),\n",
    "            params_image_size = self.params.INPUT_SHAPE,\n",
    "            params_batch_size = self.params.BATCH_SIZE,\n",
    "            params_epochs = self.params.EPOCHS,\n",
    "            params_learning_rate = self.params.LEARNING_RATE,\n",
    "            params_classes = self.params.CLASSES,\n",
    "            params_include_top = self.params.INCLUDE_TOP,\n",
    "            params_weights = self.params.WEIGHTS\n",
    "        )\n",
    "        \n",
    "        return base_model_config\n",
    "\n",
    "    def get_callbacks_config(self) -> CallbacksConfig:\n",
    "        config = self.config.callbacks\n",
    "        model_checkpoint_dir = os.path.dirname(config.checkpoint_model_filepath)\n",
    "        create_directories([config.tensorboard_root_log_dir,\n",
    "                            model_checkpoint_dir])\n",
    "        callbacks_config = CallbacksConfig(\n",
    "            root_dir = Path(config.root_dir),\n",
    "            checkpoint_model_filepath = Path(config.checkpoint_model_filepath),\n",
    "            tensorboard_root_log_dir = Path(config.tensorboard_root_log_dir)\n",
    "        )\n",
    "        return callbacks_config\n",
    "\n",
    "    \n"
   ]
  },
  {
   "cell_type": "code",
   "execution_count": 27,
   "metadata": {},
   "outputs": [],
   "source": [
    "\n",
    "import time\n",
    "import tensorflow as tf\n",
    "class CallBacks:\n",
    "    def __init__(self,config: CallbacksConfig):\n",
    "        self.config = config\n",
    "    \n",
    "    @property\n",
    "    def _create_tb_callbacks(self):\n",
    "        timestamp = time.strftime(\"%Y-%m-%d-%H-%M-%S\")\n",
    "        tb_running_log_dir = os.path.join(\n",
    "            self.config.tensorboard_root_log_dir,\n",
    "            f\"tb_logs_at_{timestamp}\"\n",
    "        )\n",
    "        return tf.keras.callbacks.TensorBoard(log_dir=tb_running_log_dir)\n",
    "\n",
    "\n",
    "    @property\n",
    "    def _create_ckpt_callbacks(self):\n",
    "        return tf.keras.callbacks.ModelCheckpoint(\n",
    "            filepath=self.config.checkpoint_model_filepath,\n",
    "            save_best_only=True\n",
    "        )\n",
    "\n",
    "    def get_tb_ckpt_callbacks(self):\n",
    "        return [\n",
    "                    self._create_tb_callbacks,\n",
    "                    self._create_ckpt_callbacks\n",
    "        ]\n",
    "\n",
    "\n",
    "\n",
    "\n",
    "\n",
    "\n"
   ]
  },
  {
   "cell_type": "code",
   "execution_count": 28,
   "metadata": {},
   "outputs": [
    {
     "name": "stdout",
     "output_type": "stream",
     "text": [
      "[2023-06-21 17:48:32,214: INFO: helper_functions: yaml file config\\config.yaml uploaded successfully]\n",
      "[2023-06-21 17:48:32,222: INFO: helper_functions: yaml file params.yaml uploaded successfully]\n",
      "[2023-06-21 17:48:32,226: INFO: helper_functions: created directory at: artifacts]\n",
      "1\n",
      "[2023-06-21 17:48:32,231: INFO: helper_functions: created directory at: artifacts/callbacks/tensorboard_log_dir]\n",
      "[2023-06-21 17:48:32,233: INFO: helper_functions: created directory at: artifacts/callbacks/checkpoint_dir]\n",
      "2\n",
      "3\n",
      "4\n"
     ]
    }
   ],
   "source": [
    "try:\n",
    "    configuration = ConfigurationManager()\n",
    "    print(\"1\")\n",
    "    callbacks_config = configuration.get_callbacks_config()\n",
    "    print(\"2\")\n",
    "    callbacks = CallBacks(callbacks_config)\n",
    "    print(\"3\")\n",
    "    callbacks_list = callbacks.get_tb_ckpt_callbacks()\n",
    "    print(\"4\")\n",
    "except Exception as e:\n",
    "    print(e)"
   ]
  },
  {
   "cell_type": "code",
   "execution_count": null,
   "metadata": {},
   "outputs": [],
   "source": []
  }
 ],
 "metadata": {
  "kernelspec": {
   "display_name": "venv",
   "language": "python",
   "name": "python3"
  },
  "language_info": {
   "codemirror_mode": {
    "name": "ipython",
    "version": 3
   },
   "file_extension": ".py",
   "mimetype": "text/x-python",
   "name": "python",
   "nbconvert_exporter": "python",
   "pygments_lexer": "ipython3",
   "version": "3.7.9"
  },
  "orig_nbformat": 4
 },
 "nbformat": 4,
 "nbformat_minor": 2
}
