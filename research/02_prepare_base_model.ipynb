{
 "cells": [
  {
   "cell_type": "code",
   "execution_count": 1,
   "metadata": {},
   "outputs": [],
   "source": [
    "import os"
   ]
  },
  {
   "cell_type": "code",
   "execution_count": 2,
   "metadata": {},
   "outputs": [
    {
     "data": {
      "text/plain": [
       "'d:\\\\Projects\\\\Chicken Disease Classification\\\\research'"
      ]
     },
     "execution_count": 2,
     "metadata": {},
     "output_type": "execute_result"
    }
   ],
   "source": [
    "%pwd"
   ]
  },
  {
   "cell_type": "code",
   "execution_count": 3,
   "metadata": {},
   "outputs": [],
   "source": [
    "os.chdir(\"../\")"
   ]
  },
  {
   "cell_type": "code",
   "execution_count": 4,
   "metadata": {},
   "outputs": [
    {
     "data": {
      "text/plain": [
       "'d:\\\\Projects\\\\Chicken Disease Classification'"
      ]
     },
     "execution_count": 4,
     "metadata": {},
     "output_type": "execute_result"
    }
   ],
   "source": [
    "%pwd"
   ]
  },
  {
   "cell_type": "code",
   "execution_count": 60,
   "metadata": {},
   "outputs": [],
   "source": [
    "from dataclasses import dataclass\n",
    "from pathlib import Path\n",
    "\n",
    "@dataclass(frozen=True)\n",
    "class BaseModelConfig:\n",
    "    root_dir : Path \n",
    "    base_model_path : Path\n",
    "    updated_base_model_path : Path\n",
    "    params_image_size : list\n",
    "    params_learning_rate : float\n",
    "    params_include_top : bool\n",
    "    params_weights : str\n",
    "    params_classes : int\n",
    "    params_batch_size : int\n",
    "    params_epochs : int"
   ]
  },
  {
   "cell_type": "code",
   "execution_count": 61,
   "metadata": {},
   "outputs": [],
   "source": [
    "from CDC.constants import *\n",
    "from CDC.utils.helper_functions import read_yaml, create_directories\n",
    "from box import ConfigBox"
   ]
  },
  {
   "cell_type": "code",
   "execution_count": 64,
   "metadata": {},
   "outputs": [],
   "source": [
    "class ConfigurationManager:\n",
    "    def __init__(\n",
    "        self,\n",
    "        config_file_path = CONFIG_FILE_PATH,\n",
    "        params_file_path = PARAMS_FILE_PATH):\n",
    "\n",
    "        self.config = read_yaml(config_file_path)\n",
    "        self.params = read_yaml(params_file_path)\n",
    "        create_directories([self.config.artifacts_root])\n",
    "\n",
    "    def get_data_ingestion_config(self) -> ConfigBox:\n",
    "        config = self.config.data_ingestion\n",
    "        create_directories([config.root_dir])    \n",
    "\n",
    "        data_ingestion_config = DataIngestionConfig(\n",
    "            root_dir = config.root_dir,\n",
    "            unzip_dir = config.unzip_dir,\n",
    "            local_data_file = config.local_data_file,\n",
    "            source_url = config.source_URL\n",
    "        )\n",
    "\n",
    "        return data_ingestion_config\n",
    "    \n",
    "    def get_base_model_config(self) -> BaseModelConfig:\n",
    "        config = self.config.base_model\n",
    "        create_directories([config.root_dir])\n",
    "        base_model_config = BaseModelConfig(\n",
    "            root_dir = Path(config.root_dir),\n",
    "            base_model_path = Path(config.base_model_path),\n",
    "            updated_base_model_path = Path(config.updated_base_model_path),\n",
    "            params_image_size = self.params.INPUT_SHAPE,\n",
    "            params_batch_size = self.params.BATCH_SIZE,\n",
    "            params_epochs = self.params.EPOCHS,\n",
    "            params_learning_rate = self.params.LEARNING_RATE,\n",
    "            params_classes = self.params.CLASSES,\n",
    "            params_include_top = self.params.INCLUDE_TOP,\n",
    "            params_weights = self.params.WEIGHTS\n",
    "        )\n",
    "        \n",
    "        return base_model_config\n",
    "\n",
    "\n"
   ]
  },
  {
   "cell_type": "code",
   "execution_count": 65,
   "metadata": {},
   "outputs": [],
   "source": [
    "import os\n",
    "import urllib.request as request\n",
    "from zipfile import ZipFile\n",
    "import tensorflow as tf"
   ]
  },
  {
   "cell_type": "code",
   "execution_count": 74,
   "metadata": {},
   "outputs": [],
   "source": [
    "from tensorflow.keras.applications.vgg16 import VGG16\n",
    "from tensorflow.keras.layers import Flatten, Dense\n",
    "from tensorflow.keras.models import Model\n",
    "from tensorflow.keras.optimizers import SGD\n",
    "from tensorflow.keras.losses import CategoricalCrossentropy\n",
    "\n",
    "class BaseModel:\n",
    "    def __init__(self, config : BaseModelConfig):\n",
    "        self.config = config\n",
    "\n",
    "    def get_base_model(self):\n",
    "        self.model = VGG16(\n",
    "            weights= self.config.params_weights,\n",
    "            include_top= self.config.params_include_top,\n",
    "            input_shape=self.config.params_image_size\n",
    "        )\n",
    "\n",
    "        self.model.save(self.config.base_model_path)\n",
    "\n",
    "    \n",
    "    def _prepare_full_model(self, model,classes,learning_rate,freeze_all = True,freeze_till = None):\n",
    "        if freeze_all:\n",
    "            for layer in model.layers:\n",
    "                layer.trainable = False\n",
    "        elif freeze_till:\n",
    "            for layer in model.layers[:freeze_till]:\n",
    "                layer.trainable = False\n",
    "\n",
    "        flatten = Flatten()(model.output)\n",
    "        predictions = Dense(classes, activation='softmax')(flatten)\n",
    "        model = Model(inputs=model.input, outputs=predictions)\n",
    "        model.compile(optimizer=SGD(lr=learning_rate), \n",
    "            loss=CategoricalCrossentropy(), \n",
    "            metrics=['accuracy'])\n",
    "        \n",
    "        return model\n",
    "        \n",
    "    def update_base_model(self):\n",
    "        self.full_model = self._prepare_full_model(\n",
    "            self.model,\n",
    "            self.config.params_classes,\n",
    "            self.config.params_learning_rate,\n",
    "            True,\n",
    "            None\n",
    "        )\n",
    "\n",
    "        self.full_model.save(self.config.updated_base_model_path)\n",
    "        \n",
    "\n",
    "\n",
    "    "
   ]
  },
  {
   "cell_type": "code",
   "execution_count": 75,
   "metadata": {},
   "outputs": [
    {
     "name": "stdout",
     "output_type": "stream",
     "text": [
      "[2023-06-21 02:50:29,443: INFO: helper_functions: yaml file {filename} uploaded successfully]\n",
      "[2023-06-21 02:50:29,448: INFO: helper_functions: yaml file {filename} uploaded successfully]\n",
      "[2023-06-21 02:50:29,450: INFO: helper_functions: created directory at: artifacts]\n",
      "hello\n",
      "[2023-06-21 02:50:29,453: INFO: helper_functions: created directory at: artifacts/prepare_base_model]\n",
      "got configuration\n",
      "base model instantiated\n",
      "[2023-06-21 02:50:30,303: WARNING: saving_utils: Compiled the loaded model, but the compiled metrics have yet to be built. `model.compile_metrics` will be empty until you train or evaluate the model.]\n",
      "got base model\n",
      "[2023-06-21 02:50:30,473: WARNING: optimizer: `lr` is deprecated, please use `learning_rate` instead, or use the legacy optimizer, e.g.,tf.keras.optimizers.legacy.SGD.]\n",
      "updated base model\n"
     ]
    }
   ],
   "source": [
    "try:\n",
    "    configuration_manager = ConfigurationManager()\n",
    "    print(\"hello\")\n",
    "    configuration = configuration_manager.get_base_model_config()\n",
    "    print(\"got configuration\")\n",
    "    base_model = BaseModel(configuration)\n",
    "    print(\"base model instantiated\")\n",
    "    base_model.get_base_model()\n",
    "    print(\"got base model\")\n",
    "    base_model.update_base_model()\n",
    "    print(\"updated base model\")\n",
    "except Exception as e:\n",
    "    print(e)\n"
   ]
  },
  {
   "cell_type": "code",
   "execution_count": null,
   "metadata": {},
   "outputs": [],
   "source": []
  },
  {
   "cell_type": "code",
   "execution_count": null,
   "metadata": {},
   "outputs": [],
   "source": []
  }
 ],
 "metadata": {
  "kernelspec": {
   "display_name": "venv",
   "language": "python",
   "name": "python3"
  },
  "language_info": {
   "codemirror_mode": {
    "name": "ipython",
    "version": 3
   },
   "file_extension": ".py",
   "mimetype": "text/x-python",
   "name": "python",
   "nbconvert_exporter": "python",
   "pygments_lexer": "ipython3",
   "version": "3.7.9"
  },
  "orig_nbformat": 4
 },
 "nbformat": 4,
 "nbformat_minor": 2
}
